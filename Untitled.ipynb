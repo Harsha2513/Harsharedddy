{
  "metadata": {
    "kernelspec": {
      "name": "python",
      "display_name": "Python (Pyodide)",
      "language": "python"
    },
    "language_info": {
      "codemirror_mode": {
        "name": "python",
        "version": 3
      },
      "file_extension": ".py",
      "mimetype": "text/x-python",
      "name": "python",
      "nbconvert_exporter": "python",
      "pygments_lexer": "ipython3",
      "version": "3.8"
    }
  },
  "nbformat_minor": 5,
  "nbformat": 4,
  "cells": [
    {
      "id": "058b7114-fca5-46c6-a588-580feac45193",
      "cell_type": "code",
      "source": "1. *Data Loading and Overview:*\n   - Import the dataset into Python using libraries like pandas.\n   - Inspect the structure of the dataset using head(), info(), and describe().\n\n2. *Data Cleaning:*\n   - Handle missing values.\n   - Check for duplicates and remove them if necessary.\n   - Correct inconsistent or erroneous data entries.\n\n3. *Data Visualization:*\n   - Use matplotlib and seaborn to create visualizations.\n   - Generate histograms, box plots, scatter plots, and correlation heatmaps.\n\n4. *Feature Analysis:*\n   - Examine relationships between features (e.g., correlation analysis).\n   - Identify outliers and their potential impact.\n\n5. *Key Metrics and Trends:*\n   - Compute relevant business metrics (e.g., average sales, customer retention rate).\n   - Identify trends over time or across categories.\n",
      "metadata": {
        "trusted": true
      },
      "outputs": [
        {
          "ename": "<class 'SyntaxError'>",
          "evalue": "invalid syntax (<ipython-input-6-5927ff025244>, line 1)",
          "traceback": [
            "\u001b[0;36m  Cell \u001b[0;32mIn[6], line 1\u001b[0;36m\u001b[0m\n\u001b[0;31m    1. *Data Loading and Overview:*\u001b[0m\n\u001b[0m             ^\u001b[0m\n\u001b[0;31mSyntaxError\u001b[0m\u001b[0;31m:\u001b[0m invalid syntax\n"
          ],
          "output_type": "error"
        }
      ],
      "execution_count": 6
    },
    {
      "id": "c5751b49-6626-4a40-8ae6-d4ee3eb3b59d",
      "cell_type": "code",
      "source": "Steps for EDA\nData Loading: Load Customers.csv, Products.csv, and Transactions.csv.\nData Cleaning: Handle missing values, duplicates, and format inconsistencies.\nDescriptive Statistics: Summarize key metrics like total revenue, average product price, etc.\nVisualizations:\nDistribution of customers by region.\nProduct categories contributing the most revenue.\nMonthly transaction trends.\nInsights\nInsight 1: A specific region (e.g., North America) accounts for the highest percentage of total revenue, indicating a strong market presence there.\nInsight 2: A particular product category (e.g., Electronics) contributes disproportionately to revenue, suggesting a high demand.\nInsight 3: The number of transactions peaks during specific months (e.g., November and December), highlighting seasonality in sales.\nInsight 4: Customers who signed up more than a year ago contribute significantly more to revenue than newer customers, suggesting the importance of retention strategies.\nInsight 5: A small percentage of customers (e.g., top 10%) generate the majority of revenue, indicating the presence of high-value customers.\nDeliverables:\n\n",
      "metadata": {
        "trusted": true
      },
      "outputs": [
        {
          "ename": "<class 'SyntaxError'>",
          "evalue": "invalid syntax (<ipython-input-7-f06f22a85741>, line 1)",
          "traceback": [
            "\u001b[0;36m  Cell \u001b[0;32mIn[7], line 1\u001b[0;36m\u001b[0m\n\u001b[0;31m    Steps for EDA\u001b[0m\n\u001b[0m          ^\u001b[0m\n\u001b[0;31mSyntaxError\u001b[0m\u001b[0;31m:\u001b[0m invalid syntax\n"
          ],
          "output_type": "error"
        }
      ],
      "execution_count": 7
    },
    {
      "id": "5958002d-2f2f-48fc-9b8d-0702b90d1348",
      "cell_type": "code",
      "source": "# Load datasets\ncustomers = pd.read_csv('Customers.csv')\nproducts = pd.read_csv('Products.csv')\ntransactions = pd.read_csv('Transactions.csv')\n\n# Display first few rows\nprint(customers.head())\nprint(products.head())\nprint(transactions.head())\n\n# Summary statistics\nprint(customers.info())\nprint(products.info())\nprint(transactions.info())\nData Cleaning:\n\nCheck for and handle missing values and duplicates.\nEnsure data types are appropriate for analysis (e.g., dates are in datetime format).\n# Check for missing values\nprint(customers.isnull().sum())\nprint(products.isnull().sum())\nprint(transactions.isnull().sum())\n",
      "metadata": {
        "trusted": true
      },
      "outputs": [
        {
          "ename": "<class 'SyntaxError'>",
          "evalue": "invalid syntax (<ipython-input-8-e26f1f0a8c92>, line 15)",
          "traceback": [
            "\u001b[0;36m  Cell \u001b[0;32mIn[8], line 15\u001b[0;36m\u001b[0m\n\u001b[0;31m    Data Cleaning:\u001b[0m\n\u001b[0m         ^\u001b[0m\n\u001b[0;31mSyntaxError\u001b[0m\u001b[0;31m:\u001b[0m invalid syntax\n"
          ],
          "output_type": "error"
        }
      ],
      "execution_count": 8
    },
    {
      "id": "2115b8e4-a05a-427e-a512-b2a0a762fa12",
      "cell_type": "code",
      "source": "# Total spend per customer\ncustomer_spend = full_data.groupby('CustomerID')['TotalValue'].sum().reset_index()\n\n# Average transaction value per customer\navg_transaction_value = full_data.groupby('CustomerID')['TotalValue'].mean().reset_index()\n\n# Purchase frequency per customer\npurchase_frequency = full_data.groupby('CustomerID').size().reset_index(name='PurchaseFrequency')\n\n# Preferred product category per customer\npreferred_category = full_data.groupby(['CustomerID', 'Category'])['TotalValue'].sum().reset_index()\npreferred_category = preferred_category.loc[preferred_category.groupby('CustomerID')['TotalValue'].idxmax()]\n\n# Merge features into a single DataFrame\n# Merge features into a single DataFrame\ncustomer_features = pd.merge(customer_spend, avg_transaction_value, on='CustomerID', suffixes=('_TotalSpend', '_AvgTransaction'))\ncustomer_features = pd.merge(customer_features, purchase_frequency, on='CustomerID')\ncustomer_features = pd.merge(customer_features, preferred_category[['CustomerID', 'Category']], on='CustomerID')\nData Preprocessing:\n\nNormalize numerical features to ensure equal weighting.\nEncode categorical features using techniques like one-hot encoding.\nfrom sklearn.preprocessing import StandardScaler, OneHotEncoder\n\n# Normalize numerical features\nscaler = StandardScaler()\nnumerical_features = ['TotalValue_TotalSpend', 'TotalValue_AvgTransaction', 'PurchaseFrequency']\ncustomer_features[numerical_features] = scaler.fit_transform(customer_features[numerical_features])\n\n# One-hot encode categorical features\nencoder = OneHotEncoder()\ncategory_encoded = encoder.fit_transform(customer_features[['Category']]).toarray()\ncategory_encoded_df = pd.DataFrame(category_encoded, columns=encoder.get_feature_names_out(['Category']))\ncustomer_features = pd.concat([customer_features, category_encoded_df], axis=1).drop('Category', axis=1)\nSimilarity Computation:\n",
      "metadata": {
        "trusted": true
      },
      "outputs": [],
      "execution_count": null
    },
    {
      "id": "86ef3c77-11c4-4407-95db-54e778db3e25",
      "cell_type": "code",
      "source": "",
      "metadata": {
        "trusted": true
      },
      "outputs": [],
      "execution_count": null
    },
    {
      "id": "d2f2d398-b5d5-461b-ad25-5abf42a5b59a",
      "cell_type": "code",
      "source": "",
      "metadata": {
        "trusted": true
      },
      "outputs": [],
      "execution_count": null
    }
  ]
}